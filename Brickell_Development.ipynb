{
 "cells": [
  {
   "cell_type": "code",
   "execution_count": 70,
   "metadata": {},
   "outputs": [],
   "source": [
    "from geopy.geocoders import GoogleV3\n",
    "import numpy as np\n",
    "import geocoder\n",
    "import pandas as pd\n",
    "import geopandas as gpd\n",
    "import textwrap\n",
    "from geojson import Feature, FeatureCollection, Point"
   ]
  },
  {
   "cell_type": "code",
   "execution_count": 71,
   "metadata": {},
   "outputs": [],
   "source": [
    "%store -r google_maps_API_Key\n",
    "geolocator = GoogleV3(api_key=google_maps_API_Key)"
   ]
  },
  {
   "cell_type": "code",
   "execution_count": 72,
   "metadata": {},
   "outputs": [],
   "source": [
    "df = pd.read_csv('Miami Neighborhoods New Construction - Brickell.csv')"
   ]
  },
  {
   "cell_type": "code",
   "execution_count": 75,
   "metadata": {},
   "outputs": [
    {
     "name": "stderr",
     "output_type": "stream",
     "text": [
      "C:\\Users\\aefar\\AppData\\Local\\Programs\\Python\\Python38\\lib\\site-packages\\geopandas\\array.py:524: ShapelyDeprecationWarning: The array interface is deprecated and will no longer work in Shapely 2.0. Convert the '.coords' to a numpy array instead.\n",
      "  return _unary_geo(\"centroid\", self)\n",
      "C:\\Users\\aefar\\AppData\\Local\\Programs\\Python\\Python38\\lib\\site-packages\\geopandas\\geoseries.py:133: ShapelyDeprecationWarning: The array interface is deprecated and will no longer work in Shapely 2.0. Convert the '.coords' to a numpy array instead.\n",
      "  data = from_shapely(s.values)\n"
     ]
    }
   ],
   "source": [
    "gpd.io.file.fiona.drvsupport.supported_drivers['KML'] = 'rw'\n",
    "project_gdf = gpd.read_file('Brickell.kml', driver = 'KML')\n",
    "project_gdf['center_point'] = project_gdf.geometry.centroid"
   ]
  },
  {
   "cell_type": "code",
   "execution_count": 76,
   "metadata": {},
   "outputs": [
    {
     "data": {
      "text/html": [
       "<div>\n",
       "<style scoped>\n",
       "    .dataframe tbody tr th:only-of-type {\n",
       "        vertical-align: middle;\n",
       "    }\n",
       "\n",
       "    .dataframe tbody tr th {\n",
       "        vertical-align: top;\n",
       "    }\n",
       "\n",
       "    .dataframe thead th {\n",
       "        text-align: right;\n",
       "    }\n",
       "</style>\n",
       "<table border=\"1\" class=\"dataframe\">\n",
       "  <thead>\n",
       "    <tr style=\"text-align: right;\">\n",
       "      <th></th>\n",
       "      <th>Name</th>\n",
       "      <th>Description</th>\n",
       "      <th>geometry</th>\n",
       "      <th>center_point</th>\n",
       "    </tr>\n",
       "  </thead>\n",
       "  <tbody>\n",
       "    <tr>\n",
       "      <th>0</th>\n",
       "      <td>Brickell</td>\n",
       "      <td></td>\n",
       "      <td>POLYGON Z ((-80.19989 25.74976 0.00000, -80.19...</td>\n",
       "      <td>POINT (-80.19475 25.76096)</td>\n",
       "    </tr>\n",
       "  </tbody>\n",
       "</table>\n",
       "</div>"
      ],
      "text/plain": [
       "       Name Description                                           geometry  \\\n",
       "0  Brickell              POLYGON Z ((-80.19989 25.74976 0.00000, -80.19...   \n",
       "\n",
       "                 center_point  \n",
       "0  POINT (-80.19475 25.76096)  "
      ]
     },
     "execution_count": 76,
     "metadata": {},
     "output_type": "execute_result"
    }
   ],
   "source": [
    "project_gdf"
   ]
  },
  {
   "cell_type": "code",
   "execution_count": 77,
   "metadata": {},
   "outputs": [
    {
     "data": {
      "text/html": [
       "<div>\n",
       "<style scoped>\n",
       "    .dataframe tbody tr th:only-of-type {\n",
       "        vertical-align: middle;\n",
       "    }\n",
       "\n",
       "    .dataframe tbody tr th {\n",
       "        vertical-align: top;\n",
       "    }\n",
       "\n",
       "    .dataframe thead th {\n",
       "        text-align: right;\n",
       "    }\n",
       "</style>\n",
       "<table border=\"1\" class=\"dataframe\">\n",
       "  <thead>\n",
       "    <tr style=\"text-align: right;\">\n",
       "      <th></th>\n",
       "      <th>address</th>\n",
       "      <th>developer</th>\n",
       "      <th>units</th>\n",
       "      <th>acerage</th>\n",
       "      <th>price_sale</th>\n",
       "      <th>price_loan</th>\n",
       "      <th>loan_financer</th>\n",
       "      <th>category</th>\n",
       "      <th>description</th>\n",
       "      <th>story_link</th>\n",
       "      <th>story_attribution</th>\n",
       "    </tr>\n",
       "  </thead>\n",
       "  <tbody>\n",
       "    <tr>\n",
       "      <th>0</th>\n",
       "      <td>888 Brickell Avenue, Miami FL</td>\n",
       "      <td>JDS Development Group, Major Food Group</td>\n",
       "      <td>259.0</td>\n",
       "      <td>NaN</td>\n",
       "      <td>na</td>\n",
       "      <td>na</td>\n",
       "      <td>na</td>\n",
       "      <td>proposed</td>\n",
       "      <td>&lt;a href=\"https://therealdeal.com/miami/2022/05...</td>\n",
       "      <td>https://therealdeal.com/miami/2022/05/25/jds-m...</td>\n",
       "      <td>NaN</td>\n",
       "    </tr>\n",
       "    <tr>\n",
       "      <th>1</th>\n",
       "      <td>102 Southwest Eighth Street, Miami FL</td>\n",
       "      <td>PMG</td>\n",
       "      <td>803.0</td>\n",
       "      <td>NaN</td>\n",
       "      <td>na</td>\n",
       "      <td>na</td>\n",
       "      <td>NaN</td>\n",
       "      <td>proposed</td>\n",
       "      <td>&lt;a href=\"https://therealdeal.com/miami/2022/04...</td>\n",
       "      <td>https://therealdeal.com/miami/2022/04/20/pmg-p...</td>\n",
       "      <td>NaN</td>\n",
       "    </tr>\n",
       "    <tr>\n",
       "      <th>2</th>\n",
       "      <td>609 Brickell Avenue, Miami FL</td>\n",
       "      <td>13th Floor Investments &amp; Key International</td>\n",
       "      <td>NaN</td>\n",
       "      <td>2.2</td>\n",
       "      <td>na</td>\n",
       "      <td>na</td>\n",
       "      <td>NaN</td>\n",
       "      <td>proposed</td>\n",
       "      <td>&lt;a href=\"https://therealdeal.com/miami/2022/02...</td>\n",
       "      <td>https://therealdeal.com/miami/2022/02/28/brick...</td>\n",
       "      <td>NaN</td>\n",
       "    </tr>\n",
       "    <tr>\n",
       "      <th>3</th>\n",
       "      <td>90 Southwest Eighth Street, Miami, FL 33130</td>\n",
       "      <td>Gazit Globe Group</td>\n",
       "      <td>504.0</td>\n",
       "      <td>NaN</td>\n",
       "      <td>29500000</td>\n",
       "      <td>na</td>\n",
       "      <td>NaN</td>\n",
       "      <td>planned</td>\n",
       "      <td>&lt;a href=\"https://therealdeal.com/miami/2022/02...</td>\n",
       "      <td>https://therealdeal.com/miami/2022/02/18/gazit...</td>\n",
       "      <td>NaN</td>\n",
       "    </tr>\n",
       "    <tr>\n",
       "      <th>4</th>\n",
       "      <td>1420 South Miami Avenue, Miami, FL 33130</td>\n",
       "      <td>Mast Capital</td>\n",
       "      <td>1250.0</td>\n",
       "      <td>NaN</td>\n",
       "      <td>103000000</td>\n",
       "      <td>na</td>\n",
       "      <td>NaN</td>\n",
       "      <td>planned</td>\n",
       "      <td>&lt;a href=\"https://therealdeal.com/miami/2021/12...</td>\n",
       "      <td>https://therealdeal.com/miami/2021/12/27/769192/</td>\n",
       "      <td>NaN</td>\n",
       "    </tr>\n",
       "    <tr>\n",
       "      <th>5</th>\n",
       "      <td>99 Southwest Seventh Street, Miami, FL</td>\n",
       "      <td>Harvey Hernandez</td>\n",
       "      <td>NaN</td>\n",
       "      <td>1.6</td>\n",
       "      <td>50500000</td>\n",
       "      <td>55000000</td>\n",
       "      <td>NaN</td>\n",
       "      <td>planned</td>\n",
       "      <td>&lt;a href=\"https://therealdeal.com/miami/2021/09...</td>\n",
       "      <td>https://therealdeal.com/miami/2021/09/15/harve...</td>\n",
       "      <td>NaN</td>\n",
       "    </tr>\n",
       "    <tr>\n",
       "      <th>6</th>\n",
       "      <td>175 Southeast 25th Road, Miami FL</td>\n",
       "      <td>OKO Group</td>\n",
       "      <td>135.0</td>\n",
       "      <td>NaN</td>\n",
       "      <td>na</td>\n",
       "      <td>128300000</td>\n",
       "      <td>Bank OZK</td>\n",
       "      <td>under construction</td>\n",
       "      <td>&lt;a href=\"https://therealdeal.com/miami/2021/04...</td>\n",
       "      <td>https://therealdeal.com/miami/2021/04/20/billi...</td>\n",
       "      <td>NaN</td>\n",
       "    </tr>\n",
       "    <tr>\n",
       "      <th>7</th>\n",
       "      <td>1 Southside Park, Miami FL</td>\n",
       "      <td>JDS Development Group (Michael Stern)</td>\n",
       "      <td>1000.0</td>\n",
       "      <td>1.5</td>\n",
       "      <td>23500000</td>\n",
       "      <td>na</td>\n",
       "      <td>NaN</td>\n",
       "      <td>under construction</td>\n",
       "      <td>&lt;a href=\"https://therealdeal.com/miami/2021/04...</td>\n",
       "      <td>https://therealdeal.com/miami/2021/04/09/micha...</td>\n",
       "      <td>NaN</td>\n",
       "    </tr>\n",
       "    <tr>\n",
       "      <th>8</th>\n",
       "      <td>444 Brickell Avenue, Miami FL</td>\n",
       "      <td>The Related Group, Baccarat</td>\n",
       "      <td>1400.0</td>\n",
       "      <td>4.0</td>\n",
       "      <td>104000000</td>\n",
       "      <td>na</td>\n",
       "      <td>NaN</td>\n",
       "      <td>planned</td>\n",
       "      <td>&lt;a href=\"https://therealdeal.com/miami/2021/02...</td>\n",
       "      <td>https://therealdeal.com/miami/2021/02/04/relat...</td>\n",
       "      <td>NaN</td>\n",
       "    </tr>\n",
       "    <tr>\n",
       "      <th>9</th>\n",
       "      <td>1809 Brickell Avenue, Miami, FL</td>\n",
       "      <td>Related Group &amp; Integra Investments</td>\n",
       "      <td>354.0</td>\n",
       "      <td>3.0</td>\n",
       "      <td>14000000</td>\n",
       "      <td>na</td>\n",
       "      <td>NaN</td>\n",
       "      <td>planned</td>\n",
       "      <td>&lt;a href=\"https://therealdeal.com/miami/2021/12...</td>\n",
       "      <td>https://therealdeal.com/miami/2021/12/16/relat...</td>\n",
       "      <td>NaN</td>\n",
       "    </tr>\n",
       "    <tr>\n",
       "      <th>10</th>\n",
       "      <td>1399 Southwest First Avenue, Miami FL</td>\n",
       "      <td>Eichner's Continuum Company, TSG Group</td>\n",
       "      <td>500.0</td>\n",
       "      <td>1.0</td>\n",
       "      <td>31750000</td>\n",
       "      <td>53000000</td>\n",
       "      <td>NaN</td>\n",
       "      <td>planned</td>\n",
       "      <td>&lt;a href=\"https://therealdeal.com/miami/2020/12...</td>\n",
       "      <td>https://therealdeal.com/miami/2020/12/11/conti...</td>\n",
       "      <td>NaN</td>\n",
       "    </tr>\n",
       "    <tr>\n",
       "      <th>11</th>\n",
       "      <td>239 Southwest 9th Street, Miami FL</td>\n",
       "      <td>Habitat Group</td>\n",
       "      <td>297.0</td>\n",
       "      <td>NaN</td>\n",
       "      <td>9500000</td>\n",
       "      <td>24000000</td>\n",
       "      <td>Ocean Bank</td>\n",
       "      <td>under construction</td>\n",
       "      <td>&lt;a href=\"https://therealdeal.com/miami/2019/11...</td>\n",
       "      <td>https://therealdeal.com/miami/2019/11/14/habit...</td>\n",
       "      <td>NaN</td>\n",
       "    </tr>\n",
       "  </tbody>\n",
       "</table>\n",
       "</div>"
      ],
      "text/plain": [
       "                                        address  \\\n",
       "0                 888 Brickell Avenue, Miami FL   \n",
       "1         102 Southwest Eighth Street, Miami FL   \n",
       "2                 609 Brickell Avenue, Miami FL   \n",
       "3   90 Southwest Eighth Street, Miami, FL 33130   \n",
       "4      1420 South Miami Avenue, Miami, FL 33130   \n",
       "5        99 Southwest Seventh Street, Miami, FL   \n",
       "6             175 Southeast 25th Road, Miami FL   \n",
       "7                    1 Southside Park, Miami FL   \n",
       "8                 444 Brickell Avenue, Miami FL   \n",
       "9               1809 Brickell Avenue, Miami, FL   \n",
       "10        1399 Southwest First Avenue, Miami FL   \n",
       "11           239 Southwest 9th Street, Miami FL   \n",
       "\n",
       "                                     developer   units  acerage price_sale  \\\n",
       "0      JDS Development Group, Major Food Group   259.0      NaN         na   \n",
       "1                                          PMG   803.0      NaN         na   \n",
       "2   13th Floor Investments & Key International     NaN      2.2         na   \n",
       "3                            Gazit Globe Group   504.0      NaN   29500000   \n",
       "4                                 Mast Capital  1250.0      NaN  103000000   \n",
       "5                             Harvey Hernandez     NaN      1.6   50500000   \n",
       "6                                    OKO Group   135.0      NaN         na   \n",
       "7        JDS Development Group (Michael Stern)  1000.0      1.5   23500000   \n",
       "8                  The Related Group, Baccarat  1400.0      4.0  104000000   \n",
       "9          Related Group & Integra Investments   354.0      3.0   14000000   \n",
       "10      Eichner's Continuum Company, TSG Group   500.0      1.0   31750000   \n",
       "11                               Habitat Group   297.0      NaN    9500000   \n",
       "\n",
       "   price_loan loan_financer            category  \\\n",
       "0          na            na            proposed   \n",
       "1          na           NaN            proposed   \n",
       "2          na           NaN            proposed   \n",
       "3          na           NaN             planned   \n",
       "4          na           NaN             planned   \n",
       "5    55000000           NaN             planned   \n",
       "6   128300000      Bank OZK  under construction   \n",
       "7          na           NaN  under construction   \n",
       "8          na           NaN             planned   \n",
       "9          na           NaN             planned   \n",
       "10   53000000           NaN             planned   \n",
       "11   24000000    Ocean Bank  under construction   \n",
       "\n",
       "                                          description  \\\n",
       "0   <a href=\"https://therealdeal.com/miami/2022/05...   \n",
       "1   <a href=\"https://therealdeal.com/miami/2022/04...   \n",
       "2   <a href=\"https://therealdeal.com/miami/2022/02...   \n",
       "3   <a href=\"https://therealdeal.com/miami/2022/02...   \n",
       "4   <a href=\"https://therealdeal.com/miami/2021/12...   \n",
       "5   <a href=\"https://therealdeal.com/miami/2021/09...   \n",
       "6   <a href=\"https://therealdeal.com/miami/2021/04...   \n",
       "7   <a href=\"https://therealdeal.com/miami/2021/04...   \n",
       "8   <a href=\"https://therealdeal.com/miami/2021/02...   \n",
       "9   <a href=\"https://therealdeal.com/miami/2021/12...   \n",
       "10  <a href=\"https://therealdeal.com/miami/2020/12...   \n",
       "11  <a href=\"https://therealdeal.com/miami/2019/11...   \n",
       "\n",
       "                                           story_link  story_attribution  \n",
       "0   https://therealdeal.com/miami/2022/05/25/jds-m...                NaN  \n",
       "1   https://therealdeal.com/miami/2022/04/20/pmg-p...                NaN  \n",
       "2   https://therealdeal.com/miami/2022/02/28/brick...                NaN  \n",
       "3   https://therealdeal.com/miami/2022/02/18/gazit...                NaN  \n",
       "4    https://therealdeal.com/miami/2021/12/27/769192/                NaN  \n",
       "5   https://therealdeal.com/miami/2021/09/15/harve...                NaN  \n",
       "6   https://therealdeal.com/miami/2021/04/20/billi...                NaN  \n",
       "7   https://therealdeal.com/miami/2021/04/09/micha...                NaN  \n",
       "8   https://therealdeal.com/miami/2021/02/04/relat...                NaN  \n",
       "9   https://therealdeal.com/miami/2021/12/16/relat...                NaN  \n",
       "10  https://therealdeal.com/miami/2020/12/11/conti...                NaN  \n",
       "11  https://therealdeal.com/miami/2019/11/14/habit...                NaN  "
      ]
     },
     "execution_count": 77,
     "metadata": {},
     "output_type": "execute_result"
    }
   ],
   "source": [
    "df"
   ]
  },
  {
   "cell_type": "code",
   "execution_count": 78,
   "metadata": {},
   "outputs": [],
   "source": [
    "df['loc'] = df['address'].apply(geolocator.geocode, timeout=10)"
   ]
  },
  {
   "cell_type": "code",
   "execution_count": 79,
   "metadata": {},
   "outputs": [
    {
     "data": {
      "text/plain": [
       "0     (888 Brickell Ave, Miami, FL 33131, USA, (25.7...\n",
       "1     (102 SE 8th St, Miami, FL 33131, USA, (25.7664...\n",
       "2     (609 Brickell Ave, Miami, FL 33131, USA, (25.7...\n",
       "3     (90 SW 8th St, Miami, FL 33130, USA, (25.76606...\n",
       "4     (1420 S Miami Ave, Miami, FL 33130, USA, (25.7...\n",
       "5     (99 SW 7th St, Miami, FL 33130, USA, (25.76748...\n",
       "6     (175 SE 25th Rd, Miami, FL 33129, USA, (25.749...\n",
       "7     (Southside Park, 140 SW 11th St, Miami, FL 331...\n",
       "8     (444 Brickell Ave, Miami, FL 33131, USA, (25.7...\n",
       "9     (1809 Brickell Ave, Miami, FL 33129, USA, (25....\n",
       "10    (1399 SW 1st Ave, Miami, FL 33130, USA, (25.76...\n",
       "11    (239 SW 9th St, Miami, FL 33130, USA, (25.7655...\n",
       "Name: loc, dtype: object"
      ]
     },
     "execution_count": 79,
     "metadata": {},
     "output_type": "execute_result"
    }
   ],
   "source": [
    "df['loc']"
   ]
  },
  {
   "cell_type": "code",
   "execution_count": 80,
   "metadata": {},
   "outputs": [],
   "source": [
    "df['point'] = df['loc'].apply(lambda loc: tuple(loc.point) if loc else None)"
   ]
  },
  {
   "cell_type": "code",
   "execution_count": 81,
   "metadata": {},
   "outputs": [],
   "source": [
    "df[['lat','lon','altitude']] = pd.DataFrame(df['point'].to_list(),index=df.index)"
   ]
  },
  {
   "cell_type": "code",
   "execution_count": 61,
   "metadata": {},
   "outputs": [],
   "source": [
    "# df['image_img_test'] = ' '"
   ]
  },
  {
   "cell_type": "code",
   "execution_count": 62,
   "metadata": {},
   "outputs": [],
   "source": [
    "# df.at[0,'image_img_test']=('<img src=\"Sean_Combs_2010.jpg\" width=\"256\" height=\"174\">')\n",
    "# df.at[1,'image_img_test']=('<img src=\"Sean_Combs_2010.jpg\" width=\"256\" height=\"174\">')\n",
    "# df.at[2,'image_img_test']=('<img src=\"DJ_Khaled_2012.jpg\" width=\"256\" height=\"188\">')\n",
    "# df.at[3,'image_img_test']=('<img src=\"LIL_WAYNE.jpg\" width=\"256\" height=\"252\">')\n",
    "# df.at[4,'image_img_test']=('<img src=\"Lil_Pump.jpg\" width=\"256\" height=\"190\">')\n",
    "# df.at[5,'image_img_test']=('<img src=\"Tripplie_Redd.jpg\" width=\"256\" height=\"170\">')\n",
    "# df.at[6,'image_img_test']=('<img src=\"Rick_Ross.jpg\" width=\"256\" height=\"199\">')\n",
    "# df.at[7,'image_img_test']=('<img src=\"Kodak_Black.jpg\" width=\"256\" height=\"136\">')"
   ]
  },
  {
   "cell_type": "code",
   "execution_count": 63,
   "metadata": {},
   "outputs": [
    {
     "data": {
      "text/plain": [
       "Index(['address', 'developer', 'units', 'acerage', 'price_sale', 'price_loan',\n",
       "       'loan_financer', 'category', 'description', 'story_link',\n",
       "       'story_attribution', 'loc', 'point', 'lat', 'lon', 'altitude'],\n",
       "      dtype='object')"
      ]
     },
     "execution_count": 63,
     "metadata": {},
     "output_type": "execute_result"
    }
   ],
   "source": [
    "df.columns"
   ]
  },
  {
   "cell_type": "code",
   "execution_count": 82,
   "metadata": {},
   "outputs": [
    {
     "data": {
      "text/html": [
       "<div style=\"width:100%;\"><div style=\"position:relative;width:100%;height:0;padding-bottom:60%;\"><span style=\"color:#565656\">Make this Notebook Trusted to load map: File -> Trust Notebook</span><iframe src=\"about:blank\" style=\"position:absolute;width:100%;height:100%;left:0;top:0;border:none !important;\" data-html=%3C%21DOCTYPE%20html%3E%0A%3Chead%3E%20%20%20%20%0A%20%20%20%20%3Cmeta%20http-equiv%3D%22content-type%22%20content%3D%22text/html%3B%20charset%3DUTF-8%22%20/%3E%0A%20%20%20%20%0A%20%20%20%20%20%20%20%20%3Cscript%3E%0A%20%20%20%20%20%20%20%20%20%20%20%20L_NO_TOUCH%20%3D%20false%3B%0A%20%20%20%20%20%20%20%20%20%20%20%20L_DISABLE_3D%20%3D%20false%3B%0A%20%20%20%20%20%20%20%20%3C/script%3E%0A%20%20%20%20%0A%20%20%20%20%3Cstyle%3Ehtml%2C%20body%20%7Bwidth%3A%20100%25%3Bheight%3A%20100%25%3Bmargin%3A%200%3Bpadding%3A%200%3B%7D%3C/style%3E%0A%20%20%20%20%3Cstyle%3E%23map%20%7Bposition%3Aabsolute%3Btop%3A0%3Bbottom%3A0%3Bright%3A0%3Bleft%3A0%3B%7D%3C/style%3E%0A%20%20%20%20%3Cscript%20src%3D%22https%3A//cdn.jsdelivr.net/npm/leaflet%401.6.0/dist/leaflet.js%22%3E%3C/script%3E%0A%20%20%20%20%3Cscript%20src%3D%22https%3A//code.jquery.com/jquery-1.12.4.min.js%22%3E%3C/script%3E%0A%20%20%20%20%3Cscript%20src%3D%22https%3A//maxcdn.bootstrapcdn.com/bootstrap/3.2.0/js/bootstrap.min.js%22%3E%3C/script%3E%0A%20%20%20%20%3Cscript%20src%3D%22https%3A//cdnjs.cloudflare.com/ajax/libs/Leaflet.awesome-markers/2.0.2/leaflet.awesome-markers.js%22%3E%3C/script%3E%0A%20%20%20%20%3Clink%20rel%3D%22stylesheet%22%20href%3D%22https%3A//cdn.jsdelivr.net/npm/leaflet%401.6.0/dist/leaflet.css%22/%3E%0A%20%20%20%20%3Clink%20rel%3D%22stylesheet%22%20href%3D%22https%3A//maxcdn.bootstrapcdn.com/bootstrap/3.2.0/css/bootstrap.min.css%22/%3E%0A%20%20%20%20%3Clink%20rel%3D%22stylesheet%22%20href%3D%22https%3A//maxcdn.bootstrapcdn.com/bootstrap/3.2.0/css/bootstrap-theme.min.css%22/%3E%0A%20%20%20%20%3Clink%20rel%3D%22stylesheet%22%20href%3D%22https%3A//maxcdn.bootstrapcdn.com/font-awesome/4.6.3/css/font-awesome.min.css%22/%3E%0A%20%20%20%20%3Clink%20rel%3D%22stylesheet%22%20href%3D%22https%3A//cdnjs.cloudflare.com/ajax/libs/Leaflet.awesome-markers/2.0.2/leaflet.awesome-markers.css%22/%3E%0A%20%20%20%20%3Clink%20rel%3D%22stylesheet%22%20href%3D%22https%3A//cdn.jsdelivr.net/gh/python-visualization/folium/folium/templates/leaflet.awesome.rotate.min.css%22/%3E%0A%20%20%20%20%0A%20%20%20%20%20%20%20%20%20%20%20%20%3Cmeta%20name%3D%22viewport%22%20content%3D%22width%3Ddevice-width%2C%0A%20%20%20%20%20%20%20%20%20%20%20%20%20%20%20%20initial-scale%3D1.0%2C%20maximum-scale%3D1.0%2C%20user-scalable%3Dno%22%20/%3E%0A%20%20%20%20%20%20%20%20%20%20%20%20%3Cstyle%3E%0A%20%20%20%20%20%20%20%20%20%20%20%20%20%20%20%20%23map_e24ba44a252444e9b1cffc4193cb5b56%20%7B%0A%20%20%20%20%20%20%20%20%20%20%20%20%20%20%20%20%20%20%20%20position%3A%20relative%3B%0A%20%20%20%20%20%20%20%20%20%20%20%20%20%20%20%20%20%20%20%20width%3A%20100.0%25%3B%0A%20%20%20%20%20%20%20%20%20%20%20%20%20%20%20%20%20%20%20%20height%3A%20100.0%25%3B%0A%20%20%20%20%20%20%20%20%20%20%20%20%20%20%20%20%20%20%20%20left%3A%200.0%25%3B%0A%20%20%20%20%20%20%20%20%20%20%20%20%20%20%20%20%20%20%20%20top%3A%200.0%25%3B%0A%20%20%20%20%20%20%20%20%20%20%20%20%20%20%20%20%7D%0A%20%20%20%20%20%20%20%20%20%20%20%20%3C/style%3E%0A%20%20%20%20%20%20%20%20%0A%3C/head%3E%0A%3Cbody%3E%20%20%20%20%0A%20%20%20%20%0A%20%20%20%20%20%20%20%20%20%20%20%20%20%20%3Ch3%20align%3D%22center%22%20style%3D%22font-size%3A16px%22%3E%3Cb%3ENew%20Development%20in%20Brickell%3C/b%3E%3C/h3%3E%0A%20%20%20%20%20%20%20%20%20%20%20%20%20%0A%20%20%20%20%0A%20%20%20%20%20%20%20%20%20%20%20%20%3Cdiv%20class%3D%22folium-map%22%20id%3D%22map_e24ba44a252444e9b1cffc4193cb5b56%22%20%3E%3C/div%3E%0A%20%20%20%20%20%20%20%20%0A%3C/body%3E%0A%3Cscript%3E%20%20%20%20%0A%20%20%20%20%0A%20%20%20%20%20%20%20%20%20%20%20%20var%20map_e24ba44a252444e9b1cffc4193cb5b56%20%3D%20L.map%28%0A%20%20%20%20%20%20%20%20%20%20%20%20%20%20%20%20%22map_e24ba44a252444e9b1cffc4193cb5b56%22%2C%0A%20%20%20%20%20%20%20%20%20%20%20%20%20%20%20%20%7B%0A%20%20%20%20%20%20%20%20%20%20%20%20%20%20%20%20%20%20%20%20center%3A%20%5B25.762883000000002%2C%20-80.194406975%5D%2C%0A%20%20%20%20%20%20%20%20%20%20%20%20%20%20%20%20%20%20%20%20crs%3A%20L.CRS.EPSG3857%2C%0A%20%20%20%20%20%20%20%20%20%20%20%20%20%20%20%20%20%20%20%20zoom%3A%2014.5%2C%0A%20%20%20%20%20%20%20%20%20%20%20%20%20%20%20%20%20%20%20%20zoomControl%3A%20true%2C%0A%20%20%20%20%20%20%20%20%20%20%20%20%20%20%20%20%20%20%20%20preferCanvas%3A%20false%2C%0A%20%20%20%20%20%20%20%20%20%20%20%20%20%20%20%20%7D%0A%20%20%20%20%20%20%20%20%20%20%20%20%29%3B%0A%0A%20%20%20%20%20%20%20%20%20%20%20%20%0A%0A%20%20%20%20%20%20%20%20%0A%20%20%20%20%0A%20%20%20%20%20%20%20%20%20%20%20%20var%20tile_layer_a3fb9675c93d473ab441634f6662267f%20%3D%20L.tileLayer%28%0A%20%20%20%20%20%20%20%20%20%20%20%20%20%20%20%20%22https%3A//%7Bs%7D.tile.openstreetmap.org/%7Bz%7D/%7Bx%7D/%7By%7D.png%22%2C%0A%20%20%20%20%20%20%20%20%20%20%20%20%20%20%20%20%7B%22attribution%22%3A%20%22Data%20by%20%5Cu0026copy%3B%20%5Cu003ca%20href%3D%5C%22http%3A//openstreetmap.org%5C%22%5Cu003eOpenStreetMap%5Cu003c/a%5Cu003e%2C%20under%20%5Cu003ca%20href%3D%5C%22http%3A//www.openstreetmap.org/copyright%5C%22%5Cu003eODbL%5Cu003c/a%5Cu003e.%22%2C%20%22detectRetina%22%3A%20false%2C%20%22maxNativeZoom%22%3A%2018%2C%20%22maxZoom%22%3A%2018%2C%20%22minZoom%22%3A%200%2C%20%22noWrap%22%3A%20false%2C%20%22opacity%22%3A%201%2C%20%22subdomains%22%3A%20%22abc%22%2C%20%22tms%22%3A%20false%7D%0A%20%20%20%20%20%20%20%20%20%20%20%20%29.addTo%28map_e24ba44a252444e9b1cffc4193cb5b56%29%3B%0A%20%20%20%20%20%20%20%20%0A%20%20%20%20%0A%20%20%20%20%20%20%20%20%20%20%20%20var%20marker_c893e696c8ae4e54bb8160099dc99c62%20%3D%20L.marker%28%0A%20%20%20%20%20%20%20%20%20%20%20%20%20%20%20%20%5B25.7645295%2C%20-80.1915385%5D%2C%0A%20%20%20%20%20%20%20%20%20%20%20%20%20%20%20%20%7B%7D%0A%20%20%20%20%20%20%20%20%20%20%20%20%29.addTo%28map_e24ba44a252444e9b1cffc4193cb5b56%29%3B%0A%20%20%20%20%20%20%20%20%0A%20%20%20%20%0A%20%20%20%20%20%20%20%20var%20popup_bceb2f22fe804de1be8b5c8b809d8d6b%20%3D%20L.popup%28%7B%22maxWidth%22%3A%20300%7D%29%3B%0A%0A%20%20%20%20%20%20%20%20%0A%20%20%20%20%20%20%20%20%20%20%20%20var%20html_992566a2c82b47d6ac39e140d32431bd%20%3D%20%24%28%60%3Cdiv%20id%3D%22html_992566a2c82b47d6ac39e140d32431bd%22%20style%3D%22width%3A%20100.0%25%3B%20height%3A%20100.0%25%3B%22%3EAddress%3A%20%3Cstrong%3E888%20Brickell%20Avenue%2C%20Miami%20FL%3C/strong%3E%3Cbr%3E%20%20%20%20Developer%28s%29%3A%20%3Cstrong%3E%3Cem%3EJDS%20Development%20Group%2C%20Major%20Food%20Group%3C/em%3E%3C/strong%3E%3Cbr%3E%20%20%20%20%3Cstrong%3E%3Ca%20href%3D%22https%3A//therealdeal.com/miami/2022/05/25/jds-major-food-group-to-launch-condo-sales-of-brickell-skyscraper/%3Futm_source%3Dinternal%26utm_medium%3Darticle_aside%26utm_campaign%3Dtrd_list_posts%26utm_content%3Dtrending_now%22%3EA%20259-unit%20tower%3C/a%3E%20with%20prices%20from%20%241.6M%20to%20%2411M%2C%20excluding%20penthouses.%20The%20building%20will%20include%20a%20private%20club%20and%20food%2C%20beverage%20concepts%20operated%20by%20Major%20Food%20Group%3C/strong%3E%3Cbr%3E%3C/div%3E%60%29%5B0%5D%3B%0A%20%20%20%20%20%20%20%20%20%20%20%20popup_bceb2f22fe804de1be8b5c8b809d8d6b.setContent%28html_992566a2c82b47d6ac39e140d32431bd%29%3B%0A%20%20%20%20%20%20%20%20%0A%0A%20%20%20%20%20%20%20%20marker_c893e696c8ae4e54bb8160099dc99c62.bindPopup%28popup_bceb2f22fe804de1be8b5c8b809d8d6b%29%0A%20%20%20%20%20%20%20%20%3B%0A%0A%20%20%20%20%20%20%20%20%0A%20%20%20%20%0A%20%20%20%20%0A%20%20%20%20%20%20%20%20%20%20%20%20var%20marker_3d59b638990f4d3f93035b878ac755f1%20%3D%20L.marker%28%0A%20%20%20%20%20%20%20%20%20%20%20%20%20%20%20%20%5B25.7664534%2C%20-80.192037%5D%2C%0A%20%20%20%20%20%20%20%20%20%20%20%20%20%20%20%20%7B%7D%0A%20%20%20%20%20%20%20%20%20%20%20%20%29.addTo%28map_e24ba44a252444e9b1cffc4193cb5b56%29%3B%0A%20%20%20%20%20%20%20%20%0A%20%20%20%20%0A%20%20%20%20%20%20%20%20var%20popup_8371c7a1a3be426e956aded3aae29a23%20%3D%20L.popup%28%7B%22maxWidth%22%3A%20300%7D%29%3B%0A%0A%20%20%20%20%20%20%20%20%0A%20%20%20%20%20%20%20%20%20%20%20%20var%20html_e6fa2b729e8644c9abfc1c42207d86c5%20%3D%20%24%28%60%3Cdiv%20id%3D%22html_e6fa2b729e8644c9abfc1c42207d86c5%22%20style%3D%22width%3A%20100.0%25%3B%20height%3A%20100.0%25%3B%22%3EAddress%3A%20%3Cstrong%3E102%20Southwest%20Eighth%20Street%2C%20Miami%20FL%3C/strong%3E%3Cbr%3E%20%20%20%20Developer%28s%29%3A%20%3Cstrong%3E%3Cem%3EPMG%3C/em%3E%3C/strong%3E%3Cbr%3E%20%20%20%20%3Cstrong%3E%3Ca%20href%3D%22https%3A//therealdeal.com/miami/2022/04/20/pmg-proposes-pair-of-brickell-resi-towers-with-over-800-units/%22%3EA%201.5%20million-square-foot%20project%3C/a%3E%20with%20a%2031-story%20tower%20and%2046-story%20tower%20on%201.2%20acres.%20The%20towers%20would%20share%20a%20one-story%20lobby%2C%2011-story%20garage%20and%20pool%20decks%20on%20the%2013th%20and%2031st%20floors.%3C/strong%3E%3Cbr%3E%3C/div%3E%60%29%5B0%5D%3B%0A%20%20%20%20%20%20%20%20%20%20%20%20popup_8371c7a1a3be426e956aded3aae29a23.setContent%28html_e6fa2b729e8644c9abfc1c42207d86c5%29%3B%0A%20%20%20%20%20%20%20%20%0A%0A%20%20%20%20%20%20%20%20marker_3d59b638990f4d3f93035b878ac755f1.bindPopup%28popup_8371c7a1a3be426e956aded3aae29a23%29%0A%20%20%20%20%20%20%20%20%3B%0A%0A%20%20%20%20%20%20%20%20%0A%20%20%20%20%0A%20%20%20%20%0A%20%20%20%20%20%20%20%20%20%20%20%20var%20marker_67bbd3a1901c47679d42afc1c4925edb%20%3D%20L.marker%28%0A%20%20%20%20%20%20%20%20%20%20%20%20%20%20%20%20%5B25.7676664%2C%20-80.1895552%5D%2C%0A%20%20%20%20%20%20%20%20%20%20%20%20%20%20%20%20%7B%7D%0A%20%20%20%20%20%20%20%20%20%20%20%20%29.addTo%28map_e24ba44a252444e9b1cffc4193cb5b56%29%3B%0A%20%20%20%20%20%20%20%20%0A%20%20%20%20%0A%20%20%20%20%20%20%20%20var%20popup_a9eba9b2c8c540a1926a0ab6aac4d6e0%20%3D%20L.popup%28%7B%22maxWidth%22%3A%20300%7D%29%3B%0A%0A%20%20%20%20%20%20%20%20%0A%20%20%20%20%20%20%20%20%20%20%20%20var%20html_bf28c2611f9d4a7d93d6f56a084d10a3%20%3D%20%24%28%60%3Cdiv%20id%3D%22html_bf28c2611f9d4a7d93d6f56a084d10a3%22%20style%3D%22width%3A%20100.0%25%3B%20height%3A%20100.0%25%3B%22%3EAddress%3A%20%3Cstrong%3E609%20Brickell%20Avenue%2C%20Miami%20FL%3C/strong%3E%3Cbr%3E%20%20%20%20Developer%28s%29%3A%20%3Cstrong%3E%3Cem%3E13th%20Floor%20Investments%20%26%20Key%20International%3C/em%3E%3C/strong%3E%3Cbr%3E%20%20%20%20%3Cstrong%3E%3Ca%20href%3D%22https%3A//therealdeal.com/miami/2022/02/28/brickell-church-sale-holdout-could-scuttle-240m-deal-with-13th-floor-key-international/%22%3EA%20proposed%2080-story%20condo%20tower%3C/a%3E%20to%20be%20built%20on%20church%20property.%20The%20developer%20has%20yet%20to%20purchase%20the%20land%20-%20a%20parishioner%20opposes%20the%20deal%20and%20seeks%20to%20block%20its%20passage.%3C/strong%3E%3Cbr%3E%3C/div%3E%60%29%5B0%5D%3B%0A%20%20%20%20%20%20%20%20%20%20%20%20popup_a9eba9b2c8c540a1926a0ab6aac4d6e0.setContent%28html_bf28c2611f9d4a7d93d6f56a084d10a3%29%3B%0A%20%20%20%20%20%20%20%20%0A%0A%20%20%20%20%20%20%20%20marker_67bbd3a1901c47679d42afc1c4925edb.bindPopup%28popup_a9eba9b2c8c540a1926a0ab6aac4d6e0%29%0A%20%20%20%20%20%20%20%20%3B%0A%0A%20%20%20%20%20%20%20%20%0A%20%20%20%20%0A%20%20%20%20%0A%20%20%20%20%20%20%20%20%20%20%20%20var%20marker_16dff66b82e44ffdb8b3ad37c67791c7%20%3D%20L.marker%28%0A%20%20%20%20%20%20%20%20%20%20%20%20%20%20%20%20%5B25.7660695%2C%20-80.1949727%5D%2C%0A%20%20%20%20%20%20%20%20%20%20%20%20%20%20%20%20%7B%7D%0A%20%20%20%20%20%20%20%20%20%20%20%20%29.addTo%28map_e24ba44a252444e9b1cffc4193cb5b56%29%3B%0A%20%20%20%20%20%20%20%20%0A%20%20%20%20%0A%20%20%20%20%20%20%20%20var%20popup_c5611971d2f449e3b7217f541e5e0caf%20%3D%20L.popup%28%7B%22maxWidth%22%3A%20300%7D%29%3B%0A%0A%20%20%20%20%20%20%20%20%0A%20%20%20%20%20%20%20%20%20%20%20%20var%20html_8cd3f54cfc82410094e66a3fa41c32fb%20%3D%20%24%28%60%3Cdiv%20id%3D%22html_8cd3f54cfc82410094e66a3fa41c32fb%22%20style%3D%22width%3A%20100.0%25%3B%20height%3A%20100.0%25%3B%22%3EAddress%3A%20%3Cstrong%3E90%20Southwest%20Eighth%20Street%2C%20Miami%2C%20FL%2033130%3C/strong%3E%3Cbr%3E%20%20%20%20Developer%28s%29%3A%20%3Cstrong%3E%3Cem%3EGazit%20Globe%20Group%3C/em%3E%3C/strong%3E%3Cbr%3E%20%20%20%20%3Cstrong%3E%3Ca%20href%3D%22https%3A//therealdeal.com/miami/2022/02/18/gazit-globe-proposes-504-unit-apartment-tower-in-brickell/%22%3EGazit%20Globe%E2%80%99s%20U.S.%20subsidiary%2C%20Gazit%20Horizons%2C%3C/a%3E%20wants%20to%20develop%20the%20643-foot%20tall%20%E2%80%94%20or%20more%20than%2050-story%20%E2%80%94%20Brickell%20Gateway%20tower%20on%20a%20half-acre%20lot%20steps%20from%20Metrorail%20and%20Metromover.%20Gazit%20Horizons%20bought%20the%20property%20in%202017%20for%20%2429.5%20million.%3C/strong%3E%3Cbr%3E%3C/div%3E%60%29%5B0%5D%3B%0A%20%20%20%20%20%20%20%20%20%20%20%20popup_c5611971d2f449e3b7217f541e5e0caf.setContent%28html_8cd3f54cfc82410094e66a3fa41c32fb%29%3B%0A%20%20%20%20%20%20%20%20%0A%0A%20%20%20%20%20%20%20%20marker_16dff66b82e44ffdb8b3ad37c67791c7.bindPopup%28popup_c5611971d2f449e3b7217f541e5e0caf%29%0A%20%20%20%20%20%20%20%20%3B%0A%0A%20%20%20%20%20%20%20%20%0A%20%20%20%20%0A%20%20%20%20%0A%20%20%20%20%20%20%20%20%20%20%20%20var%20marker_70d7b63dec574420978e78f4ef0d842e%20%3D%20L.marker%28%0A%20%20%20%20%20%20%20%20%20%20%20%20%20%20%20%20%5B25.76014%2C%20-80.1939079%5D%2C%0A%20%20%20%20%20%20%20%20%20%20%20%20%20%20%20%20%7B%7D%0A%20%20%20%20%20%20%20%20%20%20%20%20%29.addTo%28map_e24ba44a252444e9b1cffc4193cb5b56%29%3B%0A%20%20%20%20%20%20%20%20%0A%20%20%20%20%0A%20%20%20%20%20%20%20%20var%20popup_68e91330d25d407ca9efd0d72d965e69%20%3D%20L.popup%28%7B%22maxWidth%22%3A%20300%7D%29%3B%0A%0A%20%20%20%20%20%20%20%20%0A%20%20%20%20%20%20%20%20%20%20%20%20var%20html_453720f1f8b84b9caa60fcdf1ee2d884%20%3D%20%24%28%60%3Cdiv%20id%3D%22html_453720f1f8b84b9caa60fcdf1ee2d884%22%20style%3D%22width%3A%20100.0%25%3B%20height%3A%20100.0%25%3B%22%3EAddress%3A%20%3Cstrong%3E1420%20South%20Miami%20Avenue%2C%20Miami%2C%20FL%2033130%3C/strong%3E%3Cbr%3E%20%20%20%20Developer%28s%29%3A%20%3Cstrong%3E%3Cem%3EMast%20Capital%3C/em%3E%3C/strong%3E%3Cbr%3E%20%20%20%20%3Cstrong%3E%3Ca%20href%3D%22https%3A//therealdeal.com/miami/2021/12/27/769192/%22%3EAn%2080-story%20condo%20tower%3C/a%3E%20with%20400%20units%20and%20two%20multifamily%20buildings.%20The%20apartment%20buildings%20would%20have%20850%20luxury%20units.%20Mast%20paid%20%24103%20million%20for%20the%20site%20in%20December.%3C/strong%3E%3Cbr%3E%3C/div%3E%60%29%5B0%5D%3B%0A%20%20%20%20%20%20%20%20%20%20%20%20popup_68e91330d25d407ca9efd0d72d965e69.setContent%28html_453720f1f8b84b9caa60fcdf1ee2d884%29%3B%0A%20%20%20%20%20%20%20%20%0A%0A%20%20%20%20%20%20%20%20marker_70d7b63dec574420978e78f4ef0d842e.bindPopup%28popup_68e91330d25d407ca9efd0d72d965e69%29%0A%20%20%20%20%20%20%20%20%3B%0A%0A%20%20%20%20%20%20%20%20%0A%20%20%20%20%0A%20%20%20%20%0A%20%20%20%20%20%20%20%20%20%20%20%20var%20marker_7064c7c5b89b4cb793b6ed61acb054d6%20%3D%20L.marker%28%0A%20%20%20%20%20%20%20%20%20%20%20%20%20%20%20%20%5B25.7674854%2C%20-80.19533059999999%5D%2C%0A%20%20%20%20%20%20%20%20%20%20%20%20%20%20%20%20%7B%7D%0A%20%20%20%20%20%20%20%20%20%20%20%20%29.addTo%28map_e24ba44a252444e9b1cffc4193cb5b56%29%3B%0A%20%20%20%20%20%20%20%20%0A%20%20%20%20%0A%20%20%20%20%20%20%20%20var%20popup_829b2e96c18440d7b5f92977742d6f05%20%3D%20L.popup%28%7B%22maxWidth%22%3A%20300%7D%29%3B%0A%0A%20%20%20%20%20%20%20%20%0A%20%20%20%20%20%20%20%20%20%20%20%20var%20html_fa09ab9172d64a7f9f77d5852ed5a7f5%20%3D%20%24%28%60%3Cdiv%20id%3D%22html_fa09ab9172d64a7f9f77d5852ed5a7f5%22%20style%3D%22width%3A%20100.0%25%3B%20height%3A%20100.0%25%3B%22%3EAddress%3A%20%3Cstrong%3E99%20Southwest%20Seventh%20Street%2C%20Miami%2C%20FL%3C/strong%3E%3Cbr%3E%20%20%20%20Developer%28s%29%3A%20%3Cstrong%3E%3Cem%3EHarvey%20Hernandez%3C/em%3E%3C/strong%3E%3Cbr%3E%20%20%20%20%3Cstrong%3E%3Ca%20href%3D%22https%3A//therealdeal.com/miami/2021/09/15/harvey-hernandez-plans-three-tower-project-on-riverfront-brickell-site/%22%3EA%201.6-acre%20property%3C/a%3E%20and%20planned%20site%20for%20a%20three-tower%20residential%20and%20marina%20project.%20One%20tower%20would%20have%20branded%20luxury%20apartments%20and%20the%20other%20two%20branded%20apartments.%20Hernandez%20paid%20%2450.5%20million%20for%20the%20site%20in%20September.%3C/strong%3E%3Cbr%3E%3C/div%3E%60%29%5B0%5D%3B%0A%20%20%20%20%20%20%20%20%20%20%20%20popup_829b2e96c18440d7b5f92977742d6f05.setContent%28html_fa09ab9172d64a7f9f77d5852ed5a7f5%29%3B%0A%20%20%20%20%20%20%20%20%0A%0A%20%20%20%20%20%20%20%20marker_7064c7c5b89b4cb793b6ed61acb054d6.bindPopup%28popup_829b2e96c18440d7b5f92977742d6f05%29%0A%20%20%20%20%20%20%20%20%3B%0A%0A%20%20%20%20%20%20%20%20%0A%20%20%20%20%0A%20%20%20%20%0A%20%20%20%20%20%20%20%20%20%20%20%20var%20marker_b016530564af4b1daf5a72cbd55abd20%20%3D%20L.marker%28%0A%20%20%20%20%20%20%20%20%20%20%20%20%20%20%20%20%5B25.7493325%2C%20-80.2012364%5D%2C%0A%20%20%20%20%20%20%20%20%20%20%20%20%20%20%20%20%7B%7D%0A%20%20%20%20%20%20%20%20%20%20%20%20%29.addTo%28map_e24ba44a252444e9b1cffc4193cb5b56%29%3B%0A%20%20%20%20%20%20%20%20%0A%20%20%20%20%0A%20%20%20%20%20%20%20%20var%20popup_d491f79190a24ad0a159475b50e48553%20%3D%20L.popup%28%7B%22maxWidth%22%3A%20300%7D%29%3B%0A%0A%20%20%20%20%20%20%20%20%0A%20%20%20%20%20%20%20%20%20%20%20%20var%20html_ec7b3605494c4ccebce0cb8c02b7c524%20%3D%20%24%28%60%3Cdiv%20id%3D%22html_ec7b3605494c4ccebce0cb8c02b7c524%22%20style%3D%22width%3A%20100.0%25%3B%20height%3A%20100.0%25%3B%22%3EAddress%3A%20%3Cstrong%3E175%20Southeast%2025th%20Road%2C%20Miami%20FL%3C/strong%3E%3Cbr%3E%20%20%20%20Developer%28s%29%3A%20%3Cstrong%3E%3Cem%3EOKO%20Group%3C/em%3E%3C/strong%3E%3Cbr%3E%20%20%20%20%3Cstrong%3E%3Ca%20href%3D%22https%3A//therealdeal.com/miami/2021/04/20/billionaire-vlad-doronin-partner-score-128m-construction-loan-for-brickell-condo-tower/%22%3EOKO%20Group%20is%3C/a%3EOKO%20Group%20is%20led%20by%20billionaire%20Vlad%20Doronin%2C%20which%20broke%20ground%20on%20the%20project%20in%202020%20and%20launched%20sales%20in%202018.%3C/strong%3E%3Cbr%3E%3C/div%3E%60%29%5B0%5D%3B%0A%20%20%20%20%20%20%20%20%20%20%20%20popup_d491f79190a24ad0a159475b50e48553.setContent%28html_ec7b3605494c4ccebce0cb8c02b7c524%29%3B%0A%20%20%20%20%20%20%20%20%0A%0A%20%20%20%20%20%20%20%20marker_b016530564af4b1daf5a72cbd55abd20.bindPopup%28popup_d491f79190a24ad0a159475b50e48553%29%0A%20%20%20%20%20%20%20%20%3B%0A%0A%20%20%20%20%20%20%20%20%0A%20%20%20%20%0A%20%20%20%20%0A%20%20%20%20%20%20%20%20%20%20%20%20var%20marker_abcdd1d1fc854e2c8419561f9a099956%20%3D%20L.marker%28%0A%20%20%20%20%20%20%20%20%20%20%20%20%20%20%20%20%5B25.7629989%2C%20-80.1960471%5D%2C%0A%20%20%20%20%20%20%20%20%20%20%20%20%20%20%20%20%7B%7D%0A%20%20%20%20%20%20%20%20%20%20%20%20%29.addTo%28map_e24ba44a252444e9b1cffc4193cb5b56%29%3B%0A%20%20%20%20%20%20%20%20%0A%20%20%20%20%0A%20%20%20%20%20%20%20%20var%20popup_c7e96d16edc1433a9272c509440b6b7f%20%3D%20L.popup%28%7B%22maxWidth%22%3A%20300%7D%29%3B%0A%0A%20%20%20%20%20%20%20%20%0A%20%20%20%20%20%20%20%20%20%20%20%20var%20html_2c47369ed09946438f17c7c963caa666%20%3D%20%24%28%60%3Cdiv%20id%3D%22html_2c47369ed09946438f17c7c963caa666%22%20style%3D%22width%3A%20100.0%25%3B%20height%3A%20100.0%25%3B%22%3EAddress%3A%20%3Cstrong%3E1%20Southside%20Park%2C%20Miami%20FL%3C/strong%3E%3Cbr%3E%20%20%20%20Developer%28s%29%3A%20%3Cstrong%3E%3Cem%3EJDS%20Development%20Group%20%28Michael%20Stern%29%3C/em%3E%3C/strong%3E%3Cbr%3E%20%20%20%20%3Cstrong%3E%3Ca%20href%3D%22https%3A//therealdeal.com/miami/2021/04/09/michael-sterns-tower-site-deemed-brownfield-paving-way-for-tax-breaks/%22%3EA%201.5-acre%2C%20ongoing%20construction%20project%3C/a%3E%20for%20a%20752-foot-tall%20tower.%20Last%20year%2C%20the%20Miami%20City%20Commission%20unanimously%20approved%20a%20resolution%20designating%20the%20site%20as%20a%20brownfield%20due%20to%20heightened%20levels%20of%20arsenic.%20The%20designation%20allowed%20the%20developer%2C%20Michael%20Stern%2C%20to%20pursue%20state%20tax%20credits%20and%20grants%20from%20the%20federal%20EPA.%20Part%20of%20the%20development%20agreement%20with%20the%20city%20includes%20building%20a%20fire%20department%20on%20the%20ground%20floor.%20Stern%20paid%20%2423.5%20million%20for%20the%20land%20in%202020.%3C/strong%3E%3Cbr%3E%3C/div%3E%60%29%5B0%5D%3B%0A%20%20%20%20%20%20%20%20%20%20%20%20popup_c7e96d16edc1433a9272c509440b6b7f.setContent%28html_2c47369ed09946438f17c7c963caa666%29%3B%0A%20%20%20%20%20%20%20%20%0A%0A%20%20%20%20%20%20%20%20marker_abcdd1d1fc854e2c8419561f9a099956.bindPopup%28popup_c7e96d16edc1433a9272c509440b6b7f%29%0A%20%20%20%20%20%20%20%20%3B%0A%0A%20%20%20%20%20%20%20%20%0A%20%20%20%20%0A%20%20%20%20%0A%20%20%20%20%20%20%20%20%20%20%20%20var%20marker_4f30d77908a741d79c0c57da9b0a3d4c%20%3D%20L.marker%28%0A%20%20%20%20%20%20%20%20%20%20%20%20%20%20%20%20%5B25.7690781%2C%20-80.19032330000002%5D%2C%0A%20%20%20%20%20%20%20%20%20%20%20%20%20%20%20%20%7B%7D%0A%20%20%20%20%20%20%20%20%20%20%20%20%29.addTo%28map_e24ba44a252444e9b1cffc4193cb5b56%29%3B%0A%20%20%20%20%20%20%20%20%0A%20%20%20%20%0A%20%20%20%20%20%20%20%20var%20popup_8028d8209d0646f39d11e5ae9bb58b46%20%3D%20L.popup%28%7B%22maxWidth%22%3A%20300%7D%29%3B%0A%0A%20%20%20%20%20%20%20%20%0A%20%20%20%20%20%20%20%20%20%20%20%20var%20html_6232fea0355443a298fea14e83dc7ae6%20%3D%20%24%28%60%3Cdiv%20id%3D%22html_6232fea0355443a298fea14e83dc7ae6%22%20style%3D%22width%3A%20100.0%25%3B%20height%3A%20100.0%25%3B%22%3EAddress%3A%20%3Cstrong%3E444%20Brickell%20Avenue%2C%20Miami%20FL%3C/strong%3E%3Cbr%3E%20%20%20%20Developer%28s%29%3A%20%3Cstrong%3E%3Cem%3EThe%20Related%20Group%2C%20Baccarat%3C/em%3E%3C/strong%3E%3Cbr%3E%20%20%20%20%3Cstrong%3E%3Ca%20href%3D%22https%3A//therealdeal.com/miami/2021/02/04/related-to-partner-with-baccarat-on-major-brickell-high-rise-development/%22%3EPlans%20for%20the%204-acre%20property%3C/a%3E%20call%20for%20three%20branded%20Baccarat%20towers.%20A%2057-story%2C%2077-story%2C%20and%2082-story%20tower%2C%20each%20with%20hotel%2C%20office%20and%20retail%20components.%20Related%20paid%20%24104%20million%20for%20the%20site%20in%202013.%3C/strong%3E%3Cbr%3E%3C/div%3E%60%29%5B0%5D%3B%0A%20%20%20%20%20%20%20%20%20%20%20%20popup_8028d8209d0646f39d11e5ae9bb58b46.setContent%28html_6232fea0355443a298fea14e83dc7ae6%29%3B%0A%20%20%20%20%20%20%20%20%0A%0A%20%20%20%20%20%20%20%20marker_4f30d77908a741d79c0c57da9b0a3d4c.bindPopup%28popup_8028d8209d0646f39d11e5ae9bb58b46%29%0A%20%20%20%20%20%20%20%20%3B%0A%0A%20%20%20%20%20%20%20%20%0A%20%20%20%20%0A%20%20%20%20%0A%20%20%20%20%20%20%20%20%20%20%20%20var%20marker_50944b6eca3c4abf99e322ba881a9183%20%3D%20L.marker%28%0A%20%20%20%20%20%20%20%20%20%20%20%20%20%20%20%20%5B25.7542214%2C%20-80.1950473%5D%2C%0A%20%20%20%20%20%20%20%20%20%20%20%20%20%20%20%20%7B%7D%0A%20%20%20%20%20%20%20%20%20%20%20%20%29.addTo%28map_e24ba44a252444e9b1cffc4193cb5b56%29%3B%0A%20%20%20%20%20%20%20%20%0A%20%20%20%20%0A%20%20%20%20%20%20%20%20var%20popup_41758302132c4d19b17e2350668e6101%20%3D%20L.popup%28%7B%22maxWidth%22%3A%20300%7D%29%3B%0A%0A%20%20%20%20%20%20%20%20%0A%20%20%20%20%20%20%20%20%20%20%20%20var%20html_4531cb11f9ec4686afcc1355998edf12%20%3D%20%24%28%60%3Cdiv%20id%3D%22html_4531cb11f9ec4686afcc1355998edf12%22%20style%3D%22width%3A%20100.0%25%3B%20height%3A%20100.0%25%3B%22%3EAddress%3A%20%3Cstrong%3E1809%20Brickell%20Avenue%2C%20Miami%2C%20FL%3C/strong%3E%3Cbr%3E%20%20%20%20Developer%28s%29%3A%20%3Cstrong%3E%3Cem%3ERelated%20Group%20%26%20Integra%20Investments%3C/em%3E%3C/strong%3E%3Cbr%3E%20%20%20%20%3Cstrong%3E%3Ca%20href%3D%22https%3A//therealdeal.com/miami/2021/12/16/related-integra-plan-two-tower-st-regis-condo-development-in-miamis-brickell/%22%3EA%20pair%20of%20St.%20Regis-branded%3C/a%3E%20condo%20towers%20designed%20by%20Robert%20A.M.%20Stern%20Architects%20totaling%20354-units.%20The%20Depart%20of%20Housing%20and%20Urban%20Development%20released%20the%20existing%20building%20from%20its%20affordable%20housing%20agreement%20last%20summer.%3C/strong%3E%3Cbr%3E%3C/div%3E%60%29%5B0%5D%3B%0A%20%20%20%20%20%20%20%20%20%20%20%20popup_41758302132c4d19b17e2350668e6101.setContent%28html_4531cb11f9ec4686afcc1355998edf12%29%3B%0A%20%20%20%20%20%20%20%20%0A%0A%20%20%20%20%20%20%20%20marker_50944b6eca3c4abf99e322ba881a9183.bindPopup%28popup_41758302132c4d19b17e2350668e6101%29%0A%20%20%20%20%20%20%20%20%3B%0A%0A%20%20%20%20%20%20%20%20%0A%20%20%20%20%0A%20%20%20%20%0A%20%20%20%20%20%20%20%20%20%20%20%20var%20marker_7598cb44c9564670bf375c1db4b5aa56%20%3D%20L.marker%28%0A%20%20%20%20%20%20%20%20%20%20%20%20%20%20%20%20%5B25.7610484%2C%20-80.194724%5D%2C%0A%20%20%20%20%20%20%20%20%20%20%20%20%20%20%20%20%7B%7D%0A%20%20%20%20%20%20%20%20%20%20%20%20%29.addTo%28map_e24ba44a252444e9b1cffc4193cb5b56%29%3B%0A%20%20%20%20%20%20%20%20%0A%20%20%20%20%0A%20%20%20%20%20%20%20%20var%20popup_7e7d435d9fa240a89abca032c1f89c01%20%3D%20L.popup%28%7B%22maxWidth%22%3A%20300%7D%29%3B%0A%0A%20%20%20%20%20%20%20%20%0A%20%20%20%20%20%20%20%20%20%20%20%20var%20html_a10a1f70c7f649e9938d9b4d9d898eeb%20%3D%20%24%28%60%3Cdiv%20id%3D%22html_a10a1f70c7f649e9938d9b4d9d898eeb%22%20style%3D%22width%3A%20100.0%25%3B%20height%3A%20100.0%25%3B%22%3EAddress%3A%20%3Cstrong%3E1399%20Southwest%20First%20Avenue%2C%20Miami%20FL%3C/strong%3E%3Cbr%3E%20%20%20%20Developer%28s%29%3A%20%3Cstrong%3E%3Cem%3EEichner%27s%20Continuum%20Company%2C%20TSG%20Group%3C/em%3E%3C/strong%3E%3Cbr%3E%20%20%20%20%3Cstrong%3E%3Ca%20href%3D%22https%3A//therealdeal.com/miami/2020/12/11/continuum-2-0-bruce-eichner-teams-with-tsg-to-develop-brickell-tower/%22%3EContinuum%20South%20Beach%20developer%3C/a%3E%20Ian%20Bruce%20Eichner%20joined%20TSG%20Group%20and%20its%20partners%20to%20build%20a%2070-plus%20story%20condo%20tower%20where%20a%20commercial%20building%20currently%20leased%20to%20the%20Consulate%20General%20of%20Mexico%20is.%3C/strong%3E%3Cbr%3E%3C/div%3E%60%29%5B0%5D%3B%0A%20%20%20%20%20%20%20%20%20%20%20%20popup_7e7d435d9fa240a89abca032c1f89c01.setContent%28html_a10a1f70c7f649e9938d9b4d9d898eeb%29%3B%0A%20%20%20%20%20%20%20%20%0A%0A%20%20%20%20%20%20%20%20marker_7598cb44c9564670bf375c1db4b5aa56.bindPopup%28popup_7e7d435d9fa240a89abca032c1f89c01%29%0A%20%20%20%20%20%20%20%20%3B%0A%0A%20%20%20%20%20%20%20%20%0A%20%20%20%20%0A%20%20%20%20%0A%20%20%20%20%20%20%20%20%20%20%20%20var%20marker_b44b32aed59d4abfb11c9fa0669cbfdc%20%3D%20L.marker%28%0A%20%20%20%20%20%20%20%20%20%20%20%20%20%20%20%20%5B25.7655725%2C%20-80.1981637%5D%2C%0A%20%20%20%20%20%20%20%20%20%20%20%20%20%20%20%20%7B%7D%0A%20%20%20%20%20%20%20%20%20%20%20%20%29.addTo%28map_e24ba44a252444e9b1cffc4193cb5b56%29%3B%0A%20%20%20%20%20%20%20%20%0A%20%20%20%20%0A%20%20%20%20%20%20%20%20var%20popup_6bd3ccbdf3e2489d83d5d0d0934b9f4d%20%3D%20L.popup%28%7B%22maxWidth%22%3A%20300%7D%29%3B%0A%0A%20%20%20%20%20%20%20%20%0A%20%20%20%20%20%20%20%20%20%20%20%20var%20html_08d18060131e4380a33721e79f3a2ecf%20%3D%20%24%28%60%3Cdiv%20id%3D%22html_08d18060131e4380a33721e79f3a2ecf%22%20style%3D%22width%3A%20100.0%25%3B%20height%3A%20100.0%25%3B%22%3EAddress%3A%20%3Cstrong%3E239%20Southwest%209th%20Street%2C%20Miami%20FL%3C/strong%3E%3Cbr%3E%20%20%20%20Developer%28s%29%3A%20%3Cstrong%3E%3Cem%3EHabitat%20Group%3C/em%3E%3C/strong%3E%3Cbr%3E%20%20%20%20%3Cstrong%3E%3Ca%20href%3D%22https%3A//therealdeal.com/miami/2019/11/14/habitat-moves-forward-with-west-brickell-condo-hotel-project/%22%3EHabitat%20Group%3C/a%3E%20has%20three%20towers%20either%20planned%20or%20under%20construction.%20The%20first%20two%20towers%20%E2%80%94%20Smart%201%20and%20Smart%202%20%E2%80%94%20are%2095%20percent%20and%205%20percent%20completed%20according%20to%20Santiago%20Vanegas%2C%20CEO%20of%20Habitat%20Group.%20The%20first%20tower%20is%20expected%20to%20be%20delivered%20in%20the%20third%20quarter%20of%20this%20year.%20The%20second%20tower%20is%20expected%20to%20arrive%20in%20the%20fourth%20quarter%20of%202024.%20Both%20will%20have%20100%20units.%20The%20final%20tower%20will%20have%20113%20units%20and%20is%20expected%20for%20delivery%20in%20the%20second%20quarter%20of%202025.%20Sales%20for%20the%20third%20tower%20are%20already%20complete.%20Tower%201%20is%2095%20percent%20sold%20and%20Tower%202%20is%2080%20percent%20sold.%3C/strong%3E%3Cbr%3E%3C/div%3E%60%29%5B0%5D%3B%0A%20%20%20%20%20%20%20%20%20%20%20%20popup_6bd3ccbdf3e2489d83d5d0d0934b9f4d.setContent%28html_08d18060131e4380a33721e79f3a2ecf%29%3B%0A%20%20%20%20%20%20%20%20%0A%0A%20%20%20%20%20%20%20%20marker_b44b32aed59d4abfb11c9fa0669cbfdc.bindPopup%28popup_6bd3ccbdf3e2489d83d5d0d0934b9f4d%29%0A%20%20%20%20%20%20%20%20%3B%0A%0A%20%20%20%20%20%20%20%20%0A%20%20%20%20%0A%3C/script%3E onload=\"this.contentDocument.open();this.contentDocument.write(    decodeURIComponent(this.getAttribute('data-html')));this.contentDocument.close();\" allowfullscreen webkitallowfullscreen mozallowfullscreen></iframe></div></div>"
      ],
      "text/plain": [
       "<folium.folium.Map at 0x2a505d7df70>"
      ]
     },
     "execution_count": 82,
     "metadata": {},
     "output_type": "execute_result"
    }
   ],
   "source": [
    "import folium\n",
    "from folium.plugins import MarkerCluster\n",
    "import textwrap\n",
    "\n",
    "m = folium.Map(location=df[[\"lat\", \"lon\"]].mean().to_list(), zoom_start=14.5)\n",
    "title_html = '''\n",
    "              <h3 align=\"center\" style=\"font-size:16px\"><b>{}</b></h3>\n",
    "             '''.format(f'New Development in Brickell')\n",
    "\n",
    "for i, r in project_gdf.iterrows():\n",
    "    sim_geo = gpd.GeoSeries(r['geometry'])\n",
    "    geo_j\n",
    "\n",
    "\n",
    "for i,r in df.iterrows():\n",
    "    location = (r[\"lat\"], r[\"lon\"])\n",
    "    info = (r[\"address\"], r[\"developer\"], r[\"description\"])\n",
    "    info = list(info)\n",
    "    new_line = '<br>'\n",
    "    bold_start = '<strong>'\n",
    "    bold_end = '</strong>'\n",
    "    italic_start = '<em>'\n",
    "    italic_end = '</em>'\n",
    "    text = f'Address: {bold_start}{info[0]}{bold_end}{new_line}\\\n",
    "    Developer(s): {bold_start}{italic_start}{info[1]}{italic_end}{bold_end}{new_line}\\\n",
    "    {bold_start}{info[2]}{bold_end}{new_line}'\n",
    "#     text = text.replace(\". \",\".<br>\")\n",
    "    popup = folium.Popup(text, max_width=300)\n",
    "    folium.Marker(location=location,\n",
    "                      popup=popup)\\\n",
    "    .add_to(m)\n",
    "\n",
    "m.get_root().html.add_child(folium.Element(title_html))\n",
    "\n",
    "m"
   ]
  },
  {
   "cell_type": "code",
   "execution_count": 66,
   "metadata": {},
   "outputs": [],
   "source": [
    "m.save('index.html')"
   ]
  },
  {
   "cell_type": "code",
   "execution_count": null,
   "metadata": {},
   "outputs": [],
   "source": []
  },
  {
   "cell_type": "code",
   "execution_count": null,
   "metadata": {},
   "outputs": [],
   "source": []
  }
 ],
 "metadata": {
  "kernelspec": {
   "display_name": "Python 3",
   "language": "python",
   "name": "python3"
  },
  "language_info": {
   "codemirror_mode": {
    "name": "ipython",
    "version": 3
   },
   "file_extension": ".py",
   "mimetype": "text/x-python",
   "name": "python",
   "nbconvert_exporter": "python",
   "pygments_lexer": "ipython3",
   "version": "3.8.6"
  },
  "toc": {
   "base_numbering": 1,
   "nav_menu": {},
   "number_sections": true,
   "sideBar": true,
   "skip_h1_title": false,
   "title_cell": "Table of Contents",
   "title_sidebar": "Contents",
   "toc_cell": false,
   "toc_position": {},
   "toc_section_display": true,
   "toc_window_display": false
  }
 },
 "nbformat": 4,
 "nbformat_minor": 4
}
